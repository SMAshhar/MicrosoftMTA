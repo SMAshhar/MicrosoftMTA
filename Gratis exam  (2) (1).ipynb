{
 "cells": [
  {
   "cell_type": "code",
   "execution_count": null,
   "metadata": {},
   "outputs": [],
   "source": [
    "Question 1:\n",
    "data type"
   ]
  },
  {
   "cell_type": "code",
   "execution_count": 1,
   "metadata": {},
   "outputs": [
    {
     "name": "stdout",
     "output_type": "stream",
     "text": [
      "202020\n"
     ]
    },
    {
     "data": {
      "text/plain": [
       "str"
      ]
     },
     "execution_count": 1,
     "metadata": {},
     "output_type": "execute_result"
    }
   ],
   "source": [
    "#code segment 1\n",
    "x1 = \"20\"\n",
    "y1 = 3\n",
    "a = x1 * y1\n",
    "print(a)\n",
    "type(a)\n"
   ]
  },
  {
   "cell_type": "code",
   "execution_count": 2,
   "metadata": {},
   "outputs": [
    {
     "name": "stdout",
     "output_type": "stream",
     "text": [
      "1.5\n"
     ]
    },
    {
     "data": {
      "text/plain": [
       "float"
      ]
     },
     "execution_count": 2,
     "metadata": {},
     "output_type": "execute_result"
    }
   ],
   "source": [
    "#code segment 2\n",
    "x2 = 6\n",
    "y2 = 4\n",
    "b = x2/y2\n",
    "print(b)\n",
    "type(b)"
   ]
  },
  {
   "cell_type": "code",
   "execution_count": 3,
   "metadata": {},
   "outputs": [
    {
     "name": "stdout",
     "output_type": "stream",
     "text": [
      "2.5\n"
     ]
    },
    {
     "data": {
      "text/plain": [
       "float"
      ]
     },
     "execution_count": 3,
     "metadata": {},
     "output_type": "execute_result"
    }
   ],
   "source": [
    "#code segment 3 \n",
    "x3 = 2.5\n",
    "y3 = 1\n",
    "c = x3/y3\n",
    "print(c)\n",
    "type(c)"
   ]
  },
  {
   "cell_type": "code",
   "execution_count": 4,
   "metadata": {},
   "outputs": [
    {
     "data": {
      "text/plain": [
       "float"
      ]
     },
     "execution_count": 4,
     "metadata": {},
     "output_type": "execute_result"
    }
   ],
   "source": [
    "type(+1E10)"
   ]
  },
  {
   "cell_type": "code",
   "execution_count": 5,
   "metadata": {},
   "outputs": [
    {
     "data": {
      "text/plain": [
       "float"
      ]
     },
     "execution_count": 5,
     "metadata": {},
     "output_type": "execute_result"
    }
   ],
   "source": [
    "type(5.0)"
   ]
  },
  {
   "cell_type": "code",
   "execution_count": 6,
   "metadata": {},
   "outputs": [
    {
     "data": {
      "text/plain": [
       "str"
      ]
     },
     "execution_count": 6,
     "metadata": {},
     "output_type": "execute_result"
    }
   ],
   "source": [
    "type(\"True\")"
   ]
  },
  {
   "cell_type": "code",
   "execution_count": 7,
   "metadata": {},
   "outputs": [
    {
     "data": {
      "text/plain": [
       "bool"
      ]
     },
     "execution_count": 7,
     "metadata": {},
     "output_type": "execute_result"
    }
   ],
   "source": [
    "type(False)"
   ]
  },
  {
   "cell_type": "code",
   "execution_count": 53,
   "metadata": {},
   "outputs": [
    {
     "name": "stdout",
     "output_type": "stream",
     "text": [
      "Which letter would you like to countAmreen\n",
      "there are:  2 instances of Amreen\n"
     ]
    }
   ],
   "source": [
    "def count_letter(letter, word_list):\n",
    "    count = 0\n",
    "    for word in word_list:\n",
    "        if letter in word:\n",
    "            count+=1\n",
    "    return count\n",
    "\n",
    "word_list = [\"Amreen\", \"Shikha\", \"Samah\", \"Amreen\"]\n",
    "\n",
    "letter = input(\"Which letter would you like to count\")\n",
    "letter_count = count_letter(letter, word_list)\n",
    "print(\"there are: \" , letter_count, \"instances of \"+ letter)"
   ]
  },
  {
   "cell_type": "code",
   "execution_count": 3,
   "metadata": {},
   "outputs": [
    {
     "name": "stdout",
     "output_type": "stream",
     "text": [
      "Was video retuned before 8 PM? y or nn\n",
      "How many days was the video rented5\n",
      "What was the day video was rentedSunday\n",
      "6.678\n"
     ]
    }
   ],
   "source": [
    "ontime = input(\"Was video retuned before 8 PM? y or n\" ).lower()\n",
    "days_rented = int(input(\"How many days was the video rented\"))\n",
    "day_rented = input(\"What was the day video was rented\").capitalize()\n",
    "cost_per_day = 1.59\n",
    "if ontime == \"n\":\n",
    "    days_rented +=1\n",
    "if day_rented == \"Sunday\":\n",
    "    total = (days_rented * cost_per_day)* 0.7\n",
    "elif day_rented == \"Thursday\":\n",
    "    total = (days_rented * cost_per_day)* 0.5\n",
    "    \n",
    "print(total)"
   ]
  },
  {
   "cell_type": "code",
   "execution_count": null,
   "metadata": {},
   "outputs": [],
   "source": [
    "PEAMDAS\n",
    "()\n",
    "**\n",
    "Urnary positive negative not\n",
    "* /\n",
    "+ -\n",
    "AND"
   ]
  },
  {
   "cell_type": "code",
   "execution_count": 21,
   "metadata": {},
   "outputs": [
    {
     "data": {
      "text/plain": [
       "int"
      ]
     },
     "execution_count": 21,
     "metadata": {},
     "output_type": "execute_result"
    }
   ],
   "source": [
    "age = 2\n",
    "type(age)"
   ]
  },
  {
   "cell_type": "code",
   "execution_count": 23,
   "metadata": {},
   "outputs": [
    {
     "data": {
      "text/plain": [
       "bool"
      ]
     },
     "execution_count": 23,
     "metadata": {},
     "output_type": "execute_result"
    }
   ],
   "source": [
    "minor = False\n",
    "type(minor)"
   ]
  },
  {
   "cell_type": "code",
   "execution_count": 24,
   "metadata": {},
   "outputs": [
    {
     "data": {
      "text/plain": [
       "str"
      ]
     },
     "execution_count": 24,
     "metadata": {},
     "output_type": "execute_result"
    }
   ],
   "source": [
    "name = \"Contoso\"\n",
    "type(name)"
   ]
  },
  {
   "cell_type": "code",
   "execution_count": 25,
   "metadata": {},
   "outputs": [
    {
     "data": {
      "text/plain": [
       "float"
      ]
     },
     "execution_count": 25,
     "metadata": {},
     "output_type": "execute_result"
    }
   ],
   "source": [
    "weight = 123.5\n",
    "type(weight)"
   ]
  },
  {
   "cell_type": "code",
   "execution_count": 26,
   "metadata": {},
   "outputs": [
    {
     "data": {
      "text/plain": [
       "str"
      ]
     },
     "execution_count": 26,
     "metadata": {},
     "output_type": "execute_result"
    }
   ],
   "source": [
    "zip = \"81000\"\n",
    "type(zip)"
   ]
  },
  {
   "cell_type": "code",
   "execution_count": 29,
   "metadata": {},
   "outputs": [
    {
     "name": "stdout",
     "output_type": "stream",
     "text": [
      "How old were you on your start date?19\n",
      "how old are you now?33\n",
      "Congratulation on 14years of services\n"
     ]
    }
   ],
   "source": [
    "start = input(\"How old were you on your start date?\")\n",
    "end = input(\"how old are you now?\")\n",
    "print(\"Congratulation on \"+ str(int(end)- int(start))+ \"years of services\")"
   ]
  },
  {
   "cell_type": "code",
   "execution_count": 30,
   "metadata": {},
   "outputs": [
    {
     "name": "stdout",
     "output_type": "stream",
     "text": [
      "False\n",
      "False\n",
      "True\n",
      "True\n"
     ]
    }
   ],
   "source": [
    "numlist = [1,2,3,4,5]\n",
    "alphalist = [\"a\",\"b\",\"c\",\"d\",\"e\"]\n",
    "print(numlist is alphalist)\n",
    "print(numlist == alphalist)\n",
    "numlist = alphalist\n",
    "print(numlist is alphalist)\n",
    "print(numlist == alphalist)"
   ]
  },
  {
   "cell_type": "code",
   "execution_count": 31,
   "metadata": {},
   "outputs": [
    {
     "name": "stdout",
     "output_type": "stream",
     "text": [
      "2.75\n",
      "2\n",
      "3\n"
     ]
    }
   ],
   "source": [
    "a = 11\n",
    "b = 4\n",
    "print(a/b)\n",
    "print(a//b) #floor division The division of operands where the result is the quotient in which the digits after the decimal point are removed.\n",
    "print(a%b) #Remainder of x divided by y."
   ]
  },
  {
   "cell_type": "code",
   "execution_count": 33,
   "metadata": {},
   "outputs": [
    {
     "name": "stdout",
     "output_type": "stream",
     "text": [
      "Enter number for Equation5\n",
      "25\n"
     ]
    }
   ],
   "source": [
    "a= eval(input(\"Enter number for Equation\"))\n",
    "b = (-a )** 2\n",
    "print(b)"
   ]
  },
  {
   "cell_type": "code",
   "execution_count": 34,
   "metadata": {},
   "outputs": [
    {
     "data": {
      "text/plain": [
       "15"
      ]
     },
     "execution_count": 34,
     "metadata": {},
     "output_type": "execute_result"
    }
   ],
   "source": [
    "(3*(1+2)**2 - (2**2)*3)"
   ]
  },
  {
   "cell_type": "code",
   "execution_count": 58,
   "metadata": {},
   "outputs": [
    {
     "name": "stdout",
     "output_type": "stream",
     "text": [
      "['aMreen', 'Shikha', 'Samah', 'Hamood', 'Abood', 'amit']\n",
      "['aMreen', 'Shikha', 'Samah', 'Hamood', 'Abood', 'amit']\n"
     ]
    }
   ],
   "source": [
    "list_employees = [\"aMreen\", \"Shikha\", \"Samah\",\"Hamood\",\"Abood\",\"amit\",\"Naeem\",\"Haytham\",\"Amar\",\"Viren\",\"fadi\"]\n",
    "print(list_employees[:-5])\n",
    "print(list_employees[0:-5])"
   ]
  },
  {
   "cell_type": "code",
   "execution_count": 2,
   "metadata": {},
   "outputs": [
    {
     "name": "stdout",
     "output_type": "stream",
     "text": [
      "Enter the distance traveled in feet 1320\n",
      "enter the time elapsed in secs 120\n",
      "the average velocity is :  7.5 miles/hour\n"
     ]
    }
   ],
   "source": [
    "distance = float(input(\"Enter the distance traveled in feet \"))\n",
    "distance_miles = distance/5280 \n",
    "time = int(input(\"enter the time elapsed in secs \"))\n",
    "time_hours = time/3600\n",
    "velocity = distance_miles/time_hours\n",
    "print(\"the average velocity is : \", velocity, \"miles/hour\")"
   ]
  },
  {
   "cell_type": "code",
   "execution_count": 3,
   "metadata": {},
   "outputs": [
    {
     "name": "stdout",
     "output_type": "stream",
     "text": [
      "Enter the distance traveled in feet: 1320\n",
      "enter the time elapsed in secs: 120\n",
      "the average velocity is :  7.5 miles/hour\n"
     ]
    }
   ],
   "source": [
    "distance = int(input(\"Enter the distance traveled in feet: \"))\n",
    "distance_miles = distance/5280 \n",
    "time = float(input(\"enter the time elapsed in secs: \"))\n",
    "time_hours = time/3600\n",
    "velocity = distance_miles/time_hours\n",
    "print(\"the average velocity is : \", velocity, \"miles/hour\")"
   ]
  },
  {
   "cell_type": "code",
   "execution_count": 4,
   "metadata": {},
   "outputs": [
    {
     "name": "stdout",
     "output_type": "stream",
     "text": [
      "Enter the distance traveled in feet: 1320\n",
      "enter the time elapsed in secs: 120\n",
      "the average velocity is :  7.5 miles/hour\n"
     ]
    }
   ],
   "source": [
    "distance = int(input(\"Enter the distance traveled in feet: \"))\n",
    "distance_miles = distance/5280 \n",
    "time = int(input(\"enter the time elapsed in secs: \"))\n",
    "time_hours = time/3600\n",
    "velocity = distance_miles/time_hours\n",
    "print(\"the average velocity is : \", velocity, \"miles/hour\")"
   ]
  },
  {
   "cell_type": "code",
   "execution_count": 5,
   "metadata": {},
   "outputs": [
    {
     "name": "stdout",
     "output_type": "stream",
     "text": [
      "Enter the distance traveled in feet: 1320\n",
      "enter the time elapsed in secs: 120\n",
      "the average velocity is :  7.5 miles/hour\n"
     ]
    }
   ],
   "source": [
    "distance = float(input(\"Enter the distance traveled in feet: \"))\n",
    "distance_miles = distance/5280 \n",
    "time = float(input(\"enter the time elapsed in secs: \"))\n",
    "time_hours = time/3600\n",
    "velocity = distance_miles/time_hours\n",
    "print(\"the average velocity is : \", velocity, \"miles/hour\")"
   ]
  },
  {
   "cell_type": "code",
   "execution_count": 2,
   "metadata": {},
   "outputs": [
    {
     "data": {
      "text/plain": [
       "2.785"
      ]
     },
     "execution_count": 2,
     "metadata": {},
     "output_type": "execute_result"
    }
   ],
   "source": [
    "import math\n",
    "x = 2.785\n",
    "y = 3.75\n",
    "math.fmod(x,y) # Incorrect Ans"
   ]
  },
  {
   "cell_type": "code",
   "execution_count": 34,
   "metadata": {},
   "outputs": [
    {
     "data": {
      "text/plain": [
       "(0.78125, 6)"
      ]
     },
     "execution_count": 34,
     "metadata": {},
     "output_type": "execute_result"
    }
   ],
   "source": [
    "import math\n",
    "math.frexp(x)  # Incorrect Ans"
   ]
  },
  {
   "cell_type": "code",
   "execution_count": 70,
   "metadata": {},
   "outputs": [
    {
     "data": {
      "text/plain": [
       "3"
      ]
     },
     "execution_count": 70,
     "metadata": {},
     "output_type": "execute_result"
    }
   ],
   "source": [
    "import math\n",
    "x = 2.785\n",
    "math.ceil(x) # Correct option "
   ]
  },
  {
   "cell_type": "code",
   "execution_count": 72,
   "metadata": {},
   "outputs": [
    {
     "data": {
      "text/plain": [
       "2"
      ]
     },
     "execution_count": 72,
     "metadata": {},
     "output_type": "execute_result"
    }
   ],
   "source": [
    "import math\n",
    "x = 2.785\n",
    "math.floor(x) # Correct option "
   ]
  },
  {
   "cell_type": "code",
   "execution_count": 4,
   "metadata": {},
   "outputs": [
    {
     "data": {
      "text/plain": [
       "2.785"
      ]
     },
     "execution_count": 4,
     "metadata": {},
     "output_type": "execute_result"
    }
   ],
   "source": [
    "import math\n",
    "x = 2.785\n",
    "math.fabs(x) # Incorrect Ans"
   ]
  },
  {
   "cell_type": "code",
   "execution_count": null,
   "metadata": {},
   "outputs": [],
   "source": [
    "from math import sqrt  #Imported the square root function from math module\n",
    "from math import pow     #Imported the power function from math module\n"
   ]
  },
  {
   "cell_type": "code",
   "execution_count": 2,
   "metadata": {},
   "outputs": [
    {
     "data": {
      "text/plain": [
       "7"
      ]
     },
     "execution_count": 2,
     "metadata": {},
     "output_type": "execute_result"
    }
   ],
   "source": [
    "import random\n",
    "random.randrange(5, 11, 1) # incorrect ans"
   ]
  },
  {
   "cell_type": "code",
   "execution_count": 3,
   "metadata": {},
   "outputs": [
    {
     "data": {
      "text/plain": [
       "12"
      ]
     },
     "execution_count": 3,
     "metadata": {},
     "output_type": "execute_result"
    }
   ],
   "source": [
    "random.randint(5, 12)"
   ]
  },
  {
   "cell_type": "code",
   "execution_count": 4,
   "metadata": {},
   "outputs": [
    {
     "data": {
      "text/plain": [
       "8"
      ]
     },
     "execution_count": 4,
     "metadata": {},
     "output_type": "execute_result"
    }
   ],
   "source": [
    "random.randint(5, 11) # correct ans"
   ]
  },
  {
   "cell_type": "code",
   "execution_count": 5,
   "metadata": {},
   "outputs": [
    {
     "data": {
      "text/plain": [
       "8"
      ]
     },
     "execution_count": 5,
     "metadata": {},
     "output_type": "execute_result"
    }
   ],
   "source": [
    "random.randrange(5, 12, 1)"
   ]
  },
  {
   "cell_type": "markdown",
   "metadata": {},
   "source": [
    "#you need to write a code that generates a random float with minimum value of 0.0 and a maximum value 1.0"
   ]
  },
  {
   "cell_type": "code",
   "execution_count": 80,
   "metadata": {},
   "outputs": [
    {
     "data": {
      "text/plain": [
       "0"
      ]
     },
     "execution_count": 80,
     "metadata": {},
     "output_type": "execute_result"
    }
   ],
   "source": [
    "random.randrange(0.0,1.0)"
   ]
  },
  {
   "cell_type": "code",
   "execution_count": 82,
   "metadata": {},
   "outputs": [
    {
     "data": {
      "text/plain": [
       "0"
      ]
     },
     "execution_count": 82,
     "metadata": {},
     "output_type": "execute_result"
    }
   ],
   "source": [
    "random.randint(0,1)"
   ]
  },
  {
   "cell_type": "code",
   "execution_count": 83,
   "metadata": {},
   "outputs": [
    {
     "data": {
      "text/plain": [
       "0.41420561429751845"
      ]
     },
     "execution_count": 83,
     "metadata": {},
     "output_type": "execute_result"
    }
   ],
   "source": [
    "random.random()"
   ]
  },
  {
   "cell_type": "code",
   "execution_count": 8,
   "metadata": {},
   "outputs": [
    {
     "name": "stdout",
     "output_type": "stream",
     "text": [
      "None\n"
     ]
    }
   ],
   "source": [
    "import os\n",
    "def get_frist_line(filename, mode):\n",
    "    if os.path.isfile(filename):\n",
    "        with open(filename, \"r\") as file:\n",
    "            return file.readline()\n",
    "    else:\n",
    "        return None\n",
    "read = get_frist_line(\"nofile.txt\", \"r\")\n",
    "print(read)"
   ]
  },
  {
   "cell_type": "code",
   "execution_count": 15,
   "metadata": {},
   "outputs": [
    {
     "ename": "FileNotFoundError",
     "evalue": "[Errno 2] No such file or directory: 'nofile.txt'",
     "output_type": "error",
     "traceback": [
      "\u001b[1;31m---------------------------------------------------------------------------\u001b[0m",
      "\u001b[1;31mFileNotFoundError\u001b[0m                         Traceback (most recent call last)",
      "\u001b[1;32m<ipython-input-15-bb0bbb0ff37e>\u001b[0m in \u001b[0;36m<module>\u001b[1;34m\u001b[0m\n\u001b[0;32m      6\u001b[0m         \u001b[1;32melse\u001b[0m\u001b[1;33m:\u001b[0m\u001b[1;33m\u001b[0m\u001b[1;33m\u001b[0m\u001b[0m\n\u001b[0;32m      7\u001b[0m             \u001b[1;32mreturn\u001b[0m \u001b[1;32mNone\u001b[0m\u001b[1;33m\u001b[0m\u001b[1;33m\u001b[0m\u001b[0m\n\u001b[1;32m----> 8\u001b[1;33m \u001b[0mread\u001b[0m \u001b[1;33m=\u001b[0m \u001b[0mget_frist_line\u001b[0m\u001b[1;33m(\u001b[0m\u001b[1;34m\"nofile.txt\"\u001b[0m\u001b[1;33m,\u001b[0m \u001b[1;34m\"r\"\u001b[0m\u001b[1;33m)\u001b[0m\u001b[1;33m\u001b[0m\u001b[1;33m\u001b[0m\u001b[0m\n\u001b[0m\u001b[0;32m      9\u001b[0m \u001b[0mprint\u001b[0m\u001b[1;33m(\u001b[0m\u001b[0mread\u001b[0m\u001b[1;33m)\u001b[0m\u001b[1;33m\u001b[0m\u001b[1;33m\u001b[0m\u001b[0m\n",
      "\u001b[1;32m<ipython-input-15-bb0bbb0ff37e>\u001b[0m in \u001b[0;36mget_frist_line\u001b[1;34m(filename, mode)\u001b[0m\n\u001b[0;32m      1\u001b[0m \u001b[1;32mimport\u001b[0m \u001b[0mos\u001b[0m\u001b[1;33m\u001b[0m\u001b[1;33m\u001b[0m\u001b[0m\n\u001b[0;32m      2\u001b[0m \u001b[1;32mdef\u001b[0m \u001b[0mget_frist_line\u001b[0m\u001b[1;33m(\u001b[0m\u001b[0mfilename\u001b[0m\u001b[1;33m,\u001b[0m \u001b[0mmode\u001b[0m\u001b[1;33m)\u001b[0m\u001b[1;33m:\u001b[0m\u001b[1;33m\u001b[0m\u001b[1;33m\u001b[0m\u001b[0m\n\u001b[1;32m----> 3\u001b[1;33m     \u001b[1;32mwith\u001b[0m \u001b[0mopen\u001b[0m\u001b[1;33m(\u001b[0m\u001b[0mfilename\u001b[0m\u001b[1;33m,\u001b[0m \u001b[1;34m\"r\"\u001b[0m\u001b[1;33m)\u001b[0m \u001b[1;32mas\u001b[0m \u001b[0mfile\u001b[0m\u001b[1;33m:\u001b[0m\u001b[1;33m\u001b[0m\u001b[1;33m\u001b[0m\u001b[0m\n\u001b[0m\u001b[0;32m      4\u001b[0m         \u001b[1;32mif\u001b[0m \u001b[0mos\u001b[0m\u001b[1;33m.\u001b[0m\u001b[0mpath\u001b[0m\u001b[1;33m.\u001b[0m\u001b[0misfile\u001b[0m\u001b[1;33m(\u001b[0m\u001b[0mfilename\u001b[0m\u001b[1;33m)\u001b[0m\u001b[1;33m:\u001b[0m\u001b[1;33m\u001b[0m\u001b[1;33m\u001b[0m\u001b[0m\n\u001b[0;32m      5\u001b[0m             \u001b[1;32mreturn\u001b[0m \u001b[0mfile\u001b[0m\u001b[1;33m.\u001b[0m\u001b[0mreadline\u001b[0m\u001b[1;33m(\u001b[0m\u001b[1;33m)\u001b[0m\u001b[1;33m\u001b[0m\u001b[1;33m\u001b[0m\u001b[0m\n",
      "\u001b[1;31mFileNotFoundError\u001b[0m: [Errno 2] No such file or directory: 'nofile.txt'"
     ]
    }
   ],
   "source": [
    "import os\n",
    "def get_frist_line(filename, mode):\n",
    "    with open(filename, \"r\") as file:\n",
    "        if os.path.isfile(filename):\n",
    "            return file.readline()\n",
    "        else:\n",
    "            return None\n",
    "read = get_frist_line(\"nofile.txt\", \"r\")\n",
    "print(read)"
   ]
  },
  {
   "cell_type": "code",
   "execution_count": null,
   "metadata": {},
   "outputs": [
    {
     "name": "stdout",
     "output_type": "stream",
     "text": [
      "id, price, QTY\n",
      "\n",
      "10,200,20\n",
      "\n",
      "30,300,30\n",
      "\n",
      "12,150,40\n"
     ]
    }
   ],
   "source": [
    "inventory = open(\"inventory.txt\", \"r\")\n",
    "eof = False\n",
    "while eof == False:\n",
    "    line = inventory.readline()\n",
    "    if line != '\\n':\n",
    "        if line != \"\":\n",
    "            print(line)\n",
    "    else:\n",
    "        print(\"End of line\")\n",
    "        eof == True\n",
    "        inventory.close()"
   ]
  },
  {
   "cell_type": "code",
   "execution_count": 1,
   "metadata": {},
   "outputs": [
    {
     "name": "stdout",
     "output_type": "stream",
     "text": [
      "what is your name?\n",
      "Amreen\n",
      "Amreen\n"
     ]
    }
   ],
   "source": [
    "print(\"what is your name?\")\n",
    "name = input()\n",
    "print(name)"
   ]
  },
  {
   "cell_type": "code",
   "execution_count": 30,
   "metadata": {},
   "outputs": [
    {
     "name": "stdout",
     "output_type": "stream",
     "text": [
      "Enter next rating(1-5), -1 for done3\n",
      "Enter next rating(1-5), -1 for done4\n",
      "Enter next rating(1-5), -1 for done5\n",
      "Enter next rating(1-5), -1 for done1\n",
      "Enter next rating(1-5), -1 for done-1\n",
      "the average star rating for the coffee is: -1.00\n"
     ]
    }
   ],
   "source": [
    "sum = count = done = 0\n",
    "average = 0.0\n",
    "while (done != -1):\n",
    "    rating = float(input(\"Enter next rating(1-5), -1 for done\"))\n",
    "    if rating == (-1):\n",
    "        break\n",
    "sum +=rating\n",
    "count += 1\n",
    "average = float(sum/count)\n",
    "print(\"the average star rating for the coffee is: \" + format(average,'.2f'))"
   ]
  },
  {
   "cell_type": "code",
   "execution_count": 1,
   "metadata": {},
   "outputs": [
    {
     "name": "stdout",
     "output_type": "stream",
     "text": [
      "what is your name? amreen\n",
      "enter your score4\n",
      "enter your score5\n",
      "enter your score6\n",
      "enter your score8\n",
      "enter your score9\n",
      "enter your score9\n",
      "enter your score10\n",
      "enter your score15\n",
      "enter your score-1\n",
      "amreen              , your average score is: -1.0\n"
     ]
    }
   ],
   "source": [
    "name = input(\"what is your name? \")\n",
    "score = 0\n",
    "count = 0\n",
    "Sum = 0\n",
    "while (score != -1):\n",
    "    score = int(input(\"enter your score\"))\n",
    "    if score == -1:\n",
    "        break\n",
    "Sum += score         \n",
    "count += 1\n",
    "average = Sum/count\n",
    "print(\"%-20s, your average score is: %4.1f\"%(name,average))"
   ]
  },
  {
   "cell_type": "code",
   "execution_count": 1,
   "metadata": {},
   "outputs": [
    {
     "name": "stdout",
     "output_type": "stream",
     "text": [
      "how many items would you like ?3\n",
      "3.0\n"
     ]
    }
   ],
   "source": [
    "totalitems = float(input(\"how many items would you like ?\" ))\n",
    "print(totalitems)"
   ]
  },
  {
   "cell_type": "code",
   "execution_count": 57,
   "metadata": {},
   "outputs": [
    {
     "name": "stdout",
     "output_type": "stream",
     "text": [
      "None\n"
     ]
    }
   ],
   "source": [
    "import os\n",
    "def read_file(file):\n",
    "    line = None\n",
    "    if os.path.isfile(file):\n",
    "        data = open(file,\"r\")\n",
    "        while line != '':\n",
    "            line = data.readline()\n",
    "            print(line)\n",
    "read = read_file(\"guest.txt\")\n",
    "print(read)  "
   ]
  },
  {
   "cell_type": "markdown",
   "metadata": {},
   "source": [
    "You develop a Python application for your company.\n",
    "You want to add notes to your code so other team members will understand it.\n",
    "What should you do?\n",
    "A. Place the notes after the # sign on any line\n"
   ]
  },
  {
   "cell_type": "code",
   "execution_count": 31,
   "metadata": {},
   "outputs": [
    {
     "name": "stdout",
     "output_type": "stream",
     "text": [
      "welcome!!!!!\n",
      "\n",
      "heloo world\n"
     ]
    }
   ],
   "source": [
    "import sys\n",
    "try:\n",
    "    file_in = open(\"in.txt\", \"r\")\n",
    "    file_out= open(\"out.txt\", \"w+\")\n",
    "except IOError:\n",
    "    print(\"cannot open\", file_name)\n",
    "else:\n",
    "    i= 1\n",
    "    for line in file_in:\n",
    "        print(line.rstrip())\n",
    "        file_out.write(\"line\" + str(i) + \":\" + line)\n",
    "        i = i+1\n",
    "    file_in.close()\n",
    "    file_out.close()"
   ]
  },
  {
   "cell_type": "code",
   "execution_count": 4,
   "metadata": {},
   "outputs": [
    {
     "name": "stdout",
     "output_type": "stream",
     "text": [
      "how many miles did you bike this week? 10\n",
      "what is your name? amreen\n",
      "amreen , you burned about 500 calories\n"
     ]
    }
   ],
   "source": [
    "def get_names():   ##########\n",
    "    name = input(\"what is your name? \")\n",
    "    return name\n",
    "def calc_calories(miles, calories_per_mile):   #########\n",
    "    calories = miles * calories_per_mile\n",
    "    return calories\n",
    "distance = int(input(\"how many miles did you bike this week? \"))\n",
    "burn_rate = 50\n",
    "biker = get_names()\n",
    "calories_burned = calc_calories(distance, burn_rate)\n",
    "print(biker , \", you burned about\", calories_burned, \"calories\")"
   ]
  },
  {
   "cell_type": "code",
   "execution_count": 11,
   "metadata": {},
   "outputs": [
    {
     "name": "stdout",
     "output_type": "stream",
     "text": [
      "Enter a numeric value 89\n",
      "B\n"
     ]
    }
   ],
   "source": [
    "###letter grade converter\n",
    "grade = int(input(\"Enter a numeric value \"))\n",
    "if grade>=90:\n",
    "    letter_grade = \"A\"\n",
    "elif grade >=80:\n",
    "    letter_grade = \"B\"\n",
    "elif grade>=70:\n",
    "    letter_grade = \"C\"\n",
    "elif grade >=60:\n",
    "    letter_grade = \"D\"\n",
    "else:\n",
    "    letter_grade = \"F\"\n",
    "print(letter_grade)"
   ]
  },
  {
   "cell_type": "code",
   "execution_count": 107,
   "metadata": {},
   "outputs": [
    {
     "name": "stdout",
     "output_type": "stream",
     "text": [
      "0\n",
      "1\n",
      "2\n",
      "3\n",
      "4\n",
      "5\n",
      "6\n"
     ]
    }
   ],
   "source": [
    "productList = [0,1,2,3,4,5,6,7,8,9]\n",
    "index = 0\n",
    "while (index < 10):\n",
    "    print(productList[index])\n",
    "    if productList[index] == 6:\n",
    "        break\n",
    "    else:\n",
    "        index +=1    "
   ]
  },
  {
   "cell_type": "code",
   "execution_count": 9,
   "metadata": {},
   "outputs": [
    {
     "name": "stdout",
     "output_type": "stream",
     "text": [
      "2\n",
      "3\n",
      "5\n",
      "7\n",
      "9\n",
      "11\n",
      "13\n",
      "15\n",
      "17\n",
      "19\n",
      "21\n",
      "23\n",
      "25\n",
      "27\n",
      "29\n",
      "31\n",
      "33\n",
      "35\n",
      "37\n",
      "39\n",
      "41\n",
      "43\n",
      "45\n",
      "47\n",
      "49\n",
      "51\n",
      "53\n",
      "55\n",
      "57\n",
      "59\n",
      "61\n",
      "63\n",
      "65\n",
      "67\n",
      "69\n",
      "71\n",
      "73\n",
      "75\n",
      "77\n",
      "79\n",
      "81\n",
      "83\n",
      "85\n",
      "87\n",
      "89\n",
      "91\n",
      "93\n",
      "95\n",
      "97\n",
      "99\n"
     ]
    }
   ],
   "source": [
    "p= 2\n",
    "while p <=100:\n",
    "    is_prime = True\n",
    "    for i in range(2,p):\n",
    "        if p % i ==  0:   #### we use modulus cz we need remainder is 0 we didnt use / cz quieteint isdoent give 0 value \n",
    "            is_prime = False\n",
    "        break\n",
    "    if is_prime == True:\n",
    "        print(p)\n",
    "    p = p +1"
   ]
  },
  {
   "cell_type": "code",
   "execution_count": 17,
   "metadata": {},
   "outputs": [
    {
     "name": "stdout",
     "output_type": "stream",
     "text": [
      "24\n"
     ]
    }
   ],
   "source": [
    "def main(a,b,c,d):\n",
    "    value = a+b*c-d ###pemdas\n",
    "    return value\n",
    "print(main(2,3,9,5))\n",
    "\n",
    "##which expression evaluates first b*c\n",
    "##which operation will evaluates second ==== addition\n",
    "###which expression equals to expression in fun === (a+(b*c))-d"
   ]
  },
  {
   "cell_type": "code",
   "execution_count": 16,
   "metadata": {},
   "outputs": [
    {
     "name": "stdout",
     "output_type": "stream",
     "text": [
      "24\n"
     ]
    }
   ],
   "source": [
    "def main(a,b,c,d):\n",
    "    value = (a+(b*c))-d ###pemdas\n",
    "    return value\n",
    "print(main(2,3,9,5))"
   ]
  },
  {
   "cell_type": "code",
   "execution_count": 4,
   "metadata": {},
   "outputs": [
    {
     "name": "stdout",
     "output_type": "stream",
     "text": [
      "enter the room number2\n",
      "Room doesnt exist\n"
     ]
    }
   ],
   "source": [
    "rooms = {1:\"foyer\", 2:\"conference room\"}\n",
    "room = input(\"enter the room number\")\n",
    "if not room in rooms:\n",
    "    print(\"Room doesnt exist\")\n",
    "else:\n",
    "    print(\"your room name is: \"+ rooms[room])\n",
    "\n",
    "#data type in line 1 = int and strings\n",
    "#data type in line 2 string\n",
    "#why it dont match mistach datatype"
   ]
  },
  {
   "cell_type": "code",
   "execution_count": 2,
   "metadata": {},
   "outputs": [
    {
     "name": "stdout",
     "output_type": "stream",
     "text": [
      "0\n",
      "1\n",
      "2\n",
      "3\n",
      "4\n",
      "5\n",
      "6\n"
     ]
    }
   ],
   "source": [
    "numbers =[0,1,2,3,4,5,6,7,8,9]\n",
    "index= 0\n",
    "while (index<10):\n",
    "    print(numbers[index])\n",
    "    if numbers[index] == 6:\n",
    "        break\n",
    "    else:\n",
    "        index +=1"
   ]
  },
  {
   "cell_type": "code",
   "execution_count": 3,
   "metadata": {},
   "outputs": [
    {
     "name": "stdout",
     "output_type": "stream",
     "text": [
      "Eter you name: amreen\n",
      "amreen is all lower case\n"
     ]
    }
   ],
   "source": [
    "name = input(\"Eter you name: \")\n",
    "if name.lower() == name:\n",
    "    print(name, \"is all lower case\")\n",
    "elif name.upper == name:\n",
    "    print(name, \"is all upeer case\")\n",
    "else:\n",
    "    print(name, \"is mixed case\")"
   ]
  },
  {
   "cell_type": "code",
   "execution_count": 10,
   "metadata": {},
   "outputs": [
    {
     "name": "stdout",
     "output_type": "stream",
     "text": [
      "Enter you Employee number in ddd-dd-ddd format: 222-33-3333\n",
      "True\n"
     ]
    }
   ],
   "source": [
    "employee_number = \"\"\n",
    "parts = \"\"\n",
    "\n",
    "while employee_number != \"\":\n",
    "    valid = False\n",
    "    print(valid)\n",
    "employee_number = input(\"Enter you Employee number in ddd-dd-ddd format: \")\n",
    "parts = employee_number.split(\"-\")\n",
    "if len(parts) == 3:\n",
    "    if len(parts[0])== 3 and len(parts[1])== 2 and len(parts[2])== 4:\n",
    "        if parts[0].isdigit() and parts[1].isdigit() and parts[2].isdigit():\n",
    "            valid = True\n",
    "    print(valid)        "
   ]
  },
  {
   "cell_type": "code",
   "execution_count": 26,
   "metadata": {},
   "outputs": [
    {
     "name": "stdout",
     "output_type": "stream",
     "text": [
      "None\n"
     ]
    }
   ],
   "source": [
    "def safe_root(a,b):\n",
    "    if a> 0:\n",
    "        anwer = a**(1/b)\n",
    "    else:\n",
    "        if a%2 == 0:\n",
    "            anwer = \"The Answer is imaginary\"\n",
    "        else:\n",
    "            answer = (-a)**(1/b)\n",
    "        return answer\n",
    "\n",
    "print(safe_root(5,7))\n",
    "                "
   ]
  },
  {
   "cell_type": "code",
   "execution_count": 40,
   "metadata": {},
   "outputs": [
    {
     "name": "stdout",
     "output_type": "stream",
     "text": [
      "T\n"
     ]
    }
   ],
   "source": [
    "def get_rating(age):\n",
    "    if age < 18:\n",
    "        rating = \"T\"\n",
    "    elif age < 13:\n",
    "        rating = \"C\"\n",
    "    elif age == None:\n",
    "        rating = \"C\"\n",
    "    else:\n",
    "        rating = \"A\"\n",
    "    return rating\n",
    "x = get_rating(0)\n",
    "print(x)"
   ]
  },
  {
   "cell_type": "code",
   "execution_count": 44,
   "metadata": {},
   "outputs": [
    {
     "name": "stdout",
     "output_type": "stream",
     "text": [
      "C\n"
     ]
    }
   ],
   "source": [
    "def get_rating(age):\n",
    "    if age == None:\n",
    "        rating = \"C\"\n",
    "    elif age < 13:\n",
    "        rating = \"C\"\n",
    "    elif age < 18:\n",
    "        rating = \"T\" \n",
    "    else:\n",
    "        rating = \"A\"\n",
    "    return rating\n",
    "x = get_rating(1)\n",
    "print(x)"
   ]
  },
  {
   "cell_type": "code",
   "execution_count": 54,
   "metadata": {},
   "outputs": [
    {
     "data": {
      "text/plain": [
       "15"
      ]
     },
     "execution_count": 54,
     "metadata": {},
     "output_type": "execute_result"
    }
   ],
   "source": [
    "(3*(1+2)**2 - (2**2)*3)"
   ]
  },
  {
   "cell_type": "code",
   "execution_count": 2,
   "metadata": {},
   "outputs": [
    {
     "name": "stdout",
     "output_type": "stream",
     "text": [
      "900\n"
     ]
    }
   ],
   "source": [
    "def update_score(current, value):\n",
    "    current += value\n",
    "    return current\n",
    "print(update_score(400, 500))"
   ]
  },
  {
   "cell_type": "code",
   "execution_count": 3,
   "metadata": {},
   "outputs": [
    {
     "name": "stdout",
     "output_type": "stream",
     "text": [
      "8\n"
     ]
    }
   ],
   "source": [
    "#te calc_power funtion calculates exponent\n",
    "# x is the base\n",
    "# y is exponent\n",
    "# the value of x raised the y power is returned\n",
    "def calc_power(x,y):\n",
    "    comment = \"#reurn the value\"\n",
    "    return x**y \n",
    "print(calc_power(2,3))"
   ]
  },
  {
   "cell_type": "code",
   "execution_count": 7,
   "metadata": {},
   "outputs": [
    {
     "data": {
      "text/plain": [
       "512"
      ]
     },
     "execution_count": 7,
     "metadata": {},
     "output_type": "execute_result"
    }
   ],
   "source": [
    "2**3**2**1"
   ]
  },
  {
   "cell_type": "code",
   "execution_count": 9,
   "metadata": {},
   "outputs": [
    {
     "name": "stdout",
     "output_type": "stream",
     "text": [
      "Peter's sister's name's \"Anna\"\n"
     ]
    }
   ],
   "source": [
    "x = \"Peter's sister's name's \\\"Anna\\\"\"\n",
    "print(x)"
   ]
  },
  {
   "cell_type": "code",
   "execution_count": 12,
   "metadata": {},
   "outputs": [
    {
     "name": "stdout",
     "output_type": "stream",
     "text": [
      "Peter's sister's name's \"Anna\"\n"
     ]
    }
   ],
   "source": [
    "x = 'Peter\\'s sister\\'s name\\'s \\\"Anna\\\"'\n",
    "print(x)"
   ]
  },
  {
   "cell_type": "code",
   "execution_count": 14,
   "metadata": {},
   "outputs": [
    {
     "ename": "SyntaxError",
     "evalue": "invalid syntax (<ipython-input-14-13791f43e96f>, line 1)",
     "output_type": "error",
     "traceback": [
      "\u001b[1;36m  File \u001b[1;32m\"<ipython-input-14-13791f43e96f>\"\u001b[1;36m, line \u001b[1;32m1\u001b[0m\n\u001b[1;33m    x = 'Peter's sister's name's \"Anna\"'\u001b[0m\n\u001b[1;37m               ^\u001b[0m\n\u001b[1;31mSyntaxError\u001b[0m\u001b[1;31m:\u001b[0m invalid syntax\n"
     ]
    }
   ],
   "source": [
    "x = 'Peter's sister's name's \"Anna\"'\n",
    "print(x)"
   ]
  },
  {
   "cell_type": "code",
   "execution_count": 15,
   "metadata": {},
   "outputs": [
    {
     "name": "stdout",
     "output_type": "stream",
     "text": [
      "125\n"
     ]
    }
   ],
   "source": [
    "i = 250\n",
    "while len(str(i))> 72:\n",
    "    i *= 2\n",
    "else:\n",
    "    i//=2\n",
    "print(i)"
   ]
  },
  {
   "cell_type": "code",
   "execution_count": 25,
   "metadata": {},
   "outputs": [
    {
     "name": "stdout",
     "output_type": "stream",
     "text": [
      "20\n"
     ]
    }
   ],
   "source": [
    "def increment_score(score, bonus, points=1):\n",
    "    if bonus == True:\n",
    "        points = points *2\n",
    "    score = score +points\n",
    "    return score\n",
    "points = 5\n",
    "score = 10\n",
    "new_score = increment_score(score,True,points)\n",
    "print(new_score)"
   ]
  },
  {
   "cell_type": "code",
   "execution_count": 26,
   "metadata": {},
   "outputs": [
    {
     "name": "stdout",
     "output_type": "stream",
     "text": [
      "False\n"
     ]
    }
   ],
   "source": [
    "numList = [0,1,2,3,4]\n",
    "print(5 in numList)"
   ]
  },
  {
   "cell_type": "code",
   "execution_count": 27,
   "metadata": {},
   "outputs": [
    {
     "name": "stdout",
     "output_type": "stream",
     "text": [
      "<class 'bool'>\n",
      "<class 'float'>\n",
      "<class 'int'>\n",
      "<class 'str'>\n"
     ]
    }
   ],
   "source": [
    "def checkType(value):\n",
    "    dataType = type(value)\n",
    "    return dataType\n",
    "print(checkType(True))\n",
    "print(checkType(1.0))\n",
    "print(checkType(1))\n",
    "print(checkType(\"True\"))"
   ]
  },
  {
   "cell_type": "code",
   "execution_count": 34,
   "metadata": {},
   "outputs": [
    {
     "name": "stdout",
     "output_type": "stream",
     "text": [
      "500\n"
     ]
    }
   ],
   "source": [
    "total_deposits = 10000.75\n",
    "number_of_customers = 20\n",
    "average_balance = int(total_deposits/number_of_customers)\n",
    "print(average_balance)"
   ]
  },
  {
   "cell_type": "code",
   "execution_count": 7,
   "metadata": {},
   "outputs": [
    {
     "name": "stdout",
     "output_type": "stream",
     "text": [
      "Enter you numberapple\n"
     ]
    },
    {
     "ename": "ValueError",
     "evalue": "invalid literal for int() with base 10: 'apple'",
     "output_type": "error",
     "traceback": [
      "\u001b[1;31m---------------------------------------------------------------------------\u001b[0m",
      "\u001b[1;31mValueError\u001b[0m                                Traceback (most recent call last)",
      "\u001b[1;32m<ipython-input-7-50e659cc4da5>\u001b[0m in \u001b[0;36m<module>\u001b[1;34m\u001b[0m\n\u001b[1;32m----> 1\u001b[1;33m \u001b[0mx\u001b[0m \u001b[1;33m=\u001b[0m \u001b[0mint\u001b[0m\u001b[1;33m(\u001b[0m\u001b[0minput\u001b[0m\u001b[1;33m(\u001b[0m\u001b[1;34m\"Enter you number\"\u001b[0m\u001b[1;33m)\u001b[0m\u001b[1;33m)\u001b[0m\u001b[1;33m\u001b[0m\u001b[1;33m\u001b[0m\u001b[0m\n\u001b[0m\u001b[0;32m      2\u001b[0m \u001b[0mprint\u001b[0m\u001b[1;33m(\u001b[0m\u001b[0mx\u001b[0m\u001b[1;33m)\u001b[0m\u001b[1;33m\u001b[0m\u001b[1;33m\u001b[0m\u001b[0m\n",
      "\u001b[1;31mValueError\u001b[0m: invalid literal for int() with base 10: 'apple'"
     ]
    }
   ],
   "source": [
    "x = int(input(\"Enter you number\"))\n",
    "print(x)"
   ]
  },
  {
   "cell_type": "code",
   "execution_count": 36,
   "metadata": {},
   "outputs": [
    {
     "name": "stdout",
     "output_type": "stream",
     "text": [
      "500.0\n"
     ]
    }
   ],
   "source": [
    "total_deposits = 10000.75\n",
    "number_of_customers = 20\n",
    "average_balance = total_deposits//number_of_customers\n",
    "print(average_balance)"
   ]
  },
  {
   "cell_type": "code",
   "execution_count": 8,
   "metadata": {},
   "outputs": [
    {
     "name": "stdout",
     "output_type": "stream",
     "text": [
      "please enter the first number: 3\n",
      "please enter the second number: 3\n",
      "the two numbers are equal\n",
      "number 1 is less than number 2\n"
     ]
    }
   ],
   "source": [
    "num1 = eval(input(\"please enter the first number: \"))\n",
    "num2 = eval(input(\"please enter the second number: \"))\n",
    "if num1 == num2:\n",
    "    print(\"the two numbers are equal\")\n",
    "if num1<= num2:\n",
    "    print(\"number 1 is less than number 2\")\n",
    "if num1 >  num2:\n",
    "    print(\"number 1 is greater than number 2\")\n",
    "#if num2 = num1:\n",
    "    #print(\"the two numbers are same\")"
   ]
  },
  {
   "cell_type": "code",
   "execution_count": 17,
   "metadata": {},
   "outputs": [
    {
     "name": "stdout",
     "output_type": "stream",
     "text": [
      "defghijklmno\n",
      "dgjm\n",
      "\n",
      "pmjg\n",
      "\n",
      "zwtqnkheb\n"
     ]
    }
   ],
   "source": [
    "alph = \"abcdefghijklmnopqrstuvwxyz\"\n",
    "print(alph[3:15])\n",
    "print(alph[3:15:3])\n",
    "print(alph[3:15:-3])\n",
    "print(alph[15:3:-3])\n",
    "print(alph[15:3])\n",
    "print(alph[::-3])\n"
   ]
  },
  {
   "cell_type": "code",
   "execution_count": 11,
   "metadata": {},
   "outputs": [
    {
     "name": "stdout",
     "output_type": "stream",
     "text": [
      "0\n"
     ]
    }
   ],
   "source": [
    "def get_discount(minor,senior):\n",
    "    discount = 0.1\n",
    "    if not (minor or senior):\n",
    "        discount = 0\n",
    "    return discount\n",
    "price = 100\n",
    "discount = get_discount(False,False)\n",
    "pricef = price * discount\n",
    "print(pricef)"
   ]
  },
  {
   "cell_type": "code",
   "execution_count": 60,
   "metadata": {},
   "outputs": [
    {
     "name": "stdout",
     "output_type": "stream",
     "text": [
      "Config1\n",
      "Config1Config2\n",
      "Config1\n"
     ]
    }
   ],
   "source": [
    "a = 'Config1'\n",
    "print(a)\n",
    "b = a\n",
    "a += 'Config2'\n",
    "print(a)\n",
    "print(b)"
   ]
  },
  {
   "cell_type": "code",
   "execution_count": 17,
   "metadata": {},
   "outputs": [
    {
     "data": {
      "text/plain": [
       "5"
      ]
     },
     "execution_count": 17,
     "metadata": {},
     "output_type": "execute_result"
    }
   ],
   "source": [
    "4 and 5 #zero is false 1 is true , hence here 5 is True "
   ]
  },
  {
   "cell_type": "code",
   "execution_count": 20,
   "metadata": {},
   "outputs": [
    {
     "data": {
      "text/plain": [
       "False"
      ]
     },
     "execution_count": 20,
     "metadata": {},
     "output_type": "execute_result"
    }
   ],
   "source": [
    "bool(0)"
   ]
  },
  {
   "cell_type": "code",
   "execution_count": 21,
   "metadata": {},
   "outputs": [
    {
     "data": {
      "text/plain": [
       "True"
      ]
     },
     "execution_count": 21,
     "metadata": {},
     "output_type": "execute_result"
    }
   ],
   "source": [
    "None is \"None"
   ]
  },
  {
   "cell_type": "code",
   "execution_count": 71,
   "metadata": {},
   "outputs": [
    {
     "data": {
      "text/plain": [
       "True"
      ]
     },
     "execution_count": 71,
     "metadata": {},
     "output_type": "execute_result"
    }
   ],
   "source": [
    "-5<0<5"
   ]
  },
  {
   "cell_type": "code",
   "execution_count": 76,
   "metadata": {},
   "outputs": [
    {
     "name": "stdout",
     "output_type": "stream",
     "text": [
      "enter your age: 33\n",
      "Enter the four digit year: 2020\n",
      "you were born in 1987\n"
     ]
    },
    {
     "data": {
      "text/plain": [
       "str"
      ]
     },
     "execution_count": 76,
     "metadata": {},
     "output_type": "execute_result"
    }
   ],
   "source": [
    "age = input(\"enter your age: \")\n",
    "year = input(\"Enter the four digit year: \")\n",
    "born = eval(year) - eval(age)\n",
    "message = \"you were born in \" + str(born)\n",
    "print(message)"
   ]
  },
  {
   "cell_type": "code",
   "execution_count": 77,
   "metadata": {},
   "outputs": [
    {
     "data": {
      "text/plain": [
       "int"
      ]
     },
     "execution_count": 77,
     "metadata": {},
     "output_type": "execute_result"
    }
   ],
   "source": [
    "type(born)"
   ]
  },
  {
   "cell_type": "code",
   "execution_count": 79,
   "metadata": {},
   "outputs": [
    {
     "data": {
      "text/plain": [
       "str"
      ]
     },
     "execution_count": 79,
     "metadata": {},
     "output_type": "execute_result"
    }
   ],
   "source": [
    "type(age)"
   ]
  },
  {
   "cell_type": "code",
   "execution_count": 78,
   "metadata": {},
   "outputs": [
    {
     "data": {
      "text/plain": [
       "str"
      ]
     },
     "execution_count": 78,
     "metadata": {},
     "output_type": "execute_result"
    }
   ],
   "source": [
    "type(message)"
   ]
  },
  {
   "cell_type": "code",
   "execution_count": 80,
   "metadata": {},
   "outputs": [
    {
     "name": "stdout",
     "output_type": "stream",
     "text": [
      "[1, 2, 3, 4, 1, 2, 3, 4, 1, 2, 3, 4]\n"
     ]
    }
   ],
   "source": [
    "list_1 = [1,2]\n",
    "list_2 = [3,4]\n",
    "list_3 = list_1 +list_2\n",
    "list_4 = list_3*3\n",
    "print(list_4)"
   ]
  },
  {
   "cell_type": "code",
   "execution_count": 83,
   "metadata": {},
   "outputs": [
    {
     "name": "stdout",
     "output_type": "stream",
     "text": [
      "['blue', 'yellow', 'pink', 'silver', 'green', 'brown', 'sea green']\n"
     ]
    }
   ],
   "source": [
    "colors = [\"red\", \"blue\", \"grey\", \"yellow\",\"orange\",\"pink\",\"magenta\",\"silver\",\"gold\",\"green\",\"black\",\"brown\",\"dark blue\",\"sea green\"]\n",
    "print(colors[1::2])"
   ]
  },
  {
   "cell_type": "code",
   "execution_count": 89,
   "metadata": {},
   "outputs": [
    {
     "name": "stdout",
     "output_type": "stream",
     "text": [
      "Enter a number with 1 or 2 digits: 45\n",
      "the entered digits are 2\n"
     ]
    }
   ],
   "source": [
    "num = int(input(\"Enter a number with 1 or 2 digits: \"))\n",
    "digits = \"0\"\n",
    "if num > -10 and num<10:\n",
    "    digits = \"1\"\n",
    "elif num>-100 and num<100:\n",
    "    digits = \"2\"\n",
    "print(\"the entered digits are\" , digits)"
   ]
  },
  {
   "cell_type": "code",
   "execution_count": 91,
   "metadata": {},
   "outputs": [
    {
     "name": "stdout",
     "output_type": "stream",
     "text": [
      "the values in numlist are not equal to alphaList\n"
     ]
    }
   ],
   "source": [
    "numList = [1,2,3,4,5]\n",
    "alphaList = [\"a\",\"b\",\"c\",\"d\",\"e\"]\n",
    "if numList==alphaList:\n",
    "    print(\"the values in munlist are equal to alphaList\")\n",
    "else:\n",
    "    print(\"the values in numlist are not equal to alphaList\")"
   ]
  },
  {
   "cell_type": "code",
   "execution_count": 1,
   "metadata": {},
   "outputs": [
    {
     "name": "stdout",
     "output_type": "stream",
     "text": [
      "Guess an integer from 1 to 10 , you will have 3 chances\n",
      "Guess an integer3\n",
      "Guess is too high\n",
      "Guess an integer6\n",
      "Guess is too high\n",
      "Guess an integer8\n",
      "Guess is too high\n"
     ]
    }
   ],
   "source": [
    "from random import randint\n",
    "target = randint(0,10)\n",
    "chance = 1\n",
    "print(\"Guess an integer from 1 to 10 , you will have 3 chances\")\n",
    "while chance <=3:\n",
    "    guess = int(input(\"Guess an integer\"))\n",
    "    if guess >target:\n",
    "        print(\"Guess is too high\")\n",
    "    elif guess < target:\n",
    "        print(\"guess is too low\")\n",
    "    else:\n",
    "        print(\"guess is just right\")\n",
    "        break \n",
    "    chance+=1\n",
    "    "
   ]
  },
  {
   "cell_type": "code",
   "execution_count": 82,
   "metadata": {},
   "outputs": [
    {
     "name": "stdout",
     "output_type": "stream",
     "text": [
      "a was not found in the list\n",
      "None\n"
     ]
    }
   ],
   "source": [
    "def search(items, term):\n",
    "    for i in range(len(items)):\n",
    "        if items[i] == term:\n",
    "            print(\"{0} was found in thr list.\".format(term))\n",
    "            break\n",
    "        else:\n",
    "            print(\"{0} was not found in the list\".format(term))\n",
    "x = search([\"abc\"],\"a\")\n",
    "print(x)"
   ]
  },
  {
   "cell_type": "code",
   "execution_count": 1,
   "metadata": {},
   "outputs": [
    {
     "ename": "ZeroDivisionError",
     "evalue": "float division by zero",
     "output_type": "error",
     "traceback": [
      "\u001b[1;31m---------------------------------------------------------------------------\u001b[0m",
      "\u001b[1;31mZeroDivisionError\u001b[0m                         Traceback (most recent call last)",
      "\u001b[1;32m<ipython-input-1-0fd3c7bceb67>\u001b[0m in \u001b[0;36m<module>\u001b[1;34m\u001b[0m\n\u001b[0;32m      5\u001b[0m \u001b[1;32mwhile\u001b[0m \u001b[1;33m(\u001b[0m\u001b[0mpower\u001b[0m\u001b[1;33m)\u001b[0m\u001b[1;33m:\u001b[0m\u001b[1;33m\u001b[0m\u001b[1;33m\u001b[0m\u001b[0m\n\u001b[0;32m      6\u001b[0m     \u001b[1;32mif\u001b[0m \u001b[0mmove\u001b[0m\u001b[1;33m==\u001b[0m\u001b[1;36m0\u001b[0m\u001b[1;33m:\u001b[0m\u001b[1;33m\u001b[0m\u001b[1;33m\u001b[0m\u001b[0m\n\u001b[1;32m----> 7\u001b[1;33m         \u001b[0mturnValue\u001b[0m \u001b[1;33m=\u001b[0m \u001b[0mmath\u001b[0m\u001b[1;33m.\u001b[0m\u001b[0mpi\u001b[0m\u001b[1;33m/\u001b[0m\u001b[0mmove\u001b[0m\u001b[1;33m\u001b[0m\u001b[1;33m\u001b[0m\u001b[0m\n\u001b[0m\u001b[0;32m      8\u001b[0m         \u001b[0mmove\u001b[0m\u001b[1;33m+=\u001b[0m\u001b[1;36m5\u001b[0m\u001b[1;33m\u001b[0m\u001b[1;33m\u001b[0m\u001b[0m\n\u001b[0;32m      9\u001b[0m     \u001b[1;32melse\u001b[0m\u001b[1;33m:\u001b[0m\u001b[1;33m\u001b[0m\u001b[1;33m\u001b[0m\u001b[0m\n",
      "\u001b[1;31mZeroDivisionError\u001b[0m: float division by zero"
     ]
    }
   ],
   "source": [
    "import math\n",
    "#default motion for happy clown\n",
    "power = True\n",
    "move = 0\n",
    "while (power):\n",
    "    if move==0:\n",
    "        turnValue = math.pi/move\n",
    "        move+=5\n",
    "    else:\n",
    "        turnValue = 0\n",
    "        move = 0\n",
    "print(move)\n",
    "print(turnValue)"
   ]
  },
  {
   "cell_type": "code",
   "execution_count": 3,
   "metadata": {},
   "outputs": [
    {
     "name": "stdout",
     "output_type": "stream",
     "text": [
      "please enter an integer: d\n",
      "not a valid number\n",
      "please enter an integer: e\n",
      "not a valid number\n",
      "please enter an integer: 6\n"
     ]
    }
   ],
   "source": [
    "while True:\n",
    "    try:\n",
    "        x = int(input(\"please enter an integer: \"))\n",
    "        break\n",
    "    except ValueError:\n",
    "        print(\"not a valid number\")"
   ]
  },
  {
   "cell_type": "code",
   "execution_count": 2,
   "metadata": {},
   "outputs": [
    {
     "name": "stdout",
     "output_type": "stream",
     "text": [
      "the total payroll is:  24000.0\n"
     ]
    }
   ],
   "source": [
    "employee_pay = [15000,12000,45000]\n",
    "count = 0\n",
    "Sum = 0\n",
    "for index in range(len(employee_pay)):\n",
    "    count+=1\n",
    "    Sum += employee_pay[index]\n",
    "average = Sum/count\n",
    "print(\"the total payroll is: \", average)"
   ]
  },
  {
   "cell_type": "code",
   "execution_count": 93,
   "metadata": {},
   "outputs": [
    {
     "name": "stdout",
     "output_type": "stream",
     "text": [
      "5\n"
     ]
    }
   ],
   "source": [
    "import random\n",
    "print(randrange(5,105,5))"
   ]
  },
  {
   "cell_type": "code",
   "execution_count": 94,
   "metadata": {},
   "outputs": [
    {
     "name": "stdout",
     "output_type": "stream",
     "text": [
      "100\n"
     ]
    }
   ],
   "source": [
    "\n",
    "print(randint(1,20)*5)"
   ]
  },
  {
   "cell_type": "code",
   "execution_count": 95,
   "metadata": {},
   "outputs": [
    {
     "data": {
      "text/plain": [
       "0"
      ]
     },
     "execution_count": 95,
     "metadata": {},
     "output_type": "execute_result"
    }
   ],
   "source": [
    "random.randrange(0.0, 1.0)"
   ]
  },
  {
   "cell_type": "code",
   "execution_count": 96,
   "metadata": {},
   "outputs": [
    {
     "data": {
      "text/plain": [
       "0"
      ]
     },
     "execution_count": 96,
     "metadata": {},
     "output_type": "execute_result"
    }
   ],
   "source": [
    "random.randint(0,1)"
   ]
  },
  {
   "cell_type": "code",
   "execution_count": 97,
   "metadata": {},
   "outputs": [
    {
     "data": {
      "text/plain": [
       "0.25342905824570006"
      ]
     },
     "execution_count": 97,
     "metadata": {},
     "output_type": "execute_result"
    }
   ],
   "source": [
    "random.random() ###this is correct"
   ]
  },
  {
   "cell_type": "code",
   "execution_count": 4,
   "metadata": {},
   "outputs": [],
   "source": [
    "import os\n",
    "def read_file(file):\n",
    "    line = None\n",
    "    if os.path.isfile(file):\n",
    "        data = open(file, \"r\")\n",
    "        for line in data:\n",
    "            print(line)"
   ]
  },
  {
   "cell_type": "code",
   "execution_count": 7,
   "metadata": {},
   "outputs": [
    {
     "name": "stdout",
     "output_type": "stream",
     "text": [
      "April-07-17\n",
      "1,234,567.8900\n"
     ]
    }
   ],
   "source": [
    "import datetime\n",
    "d = datetime.datetime(2017,4,7)\n",
    "print(\"{:%B-%d-%y}\".format(d))\n",
    "num = 1234567.890\n",
    "print(\"{:,.4f}\".format(num))"
   ]
  },
  {
   "cell_type": "code",
   "execution_count": 13,
   "metadata": {},
   "outputs": [
    {
     "name": "stdout",
     "output_type": "stream",
     "text": [
      "enter the items name: book\n",
      "enter the QTY: 6\n",
      "\"book\",6\n",
      "\"book\",6\n",
      "\"book\",6\n"
     ]
    }
   ],
   "source": [
    "item = input(\"enter the items name: \")\n",
    "sales = input(\"enter the QTY: \")\n",
    "print('\"' +item+'\",'+sales)\n",
    "print('\"%s\",%s'%(item, sales))\n",
    "print('\"{0}\",{1}'.format(item,sales))"
   ]
  },
  {
   "cell_type": "code",
   "execution_count": 18,
   "metadata": {},
   "outputs": [
    {
     "name": "stdout",
     "output_type": "stream",
     "text": [
      "party\n",
      "birthday\n",
      "birthday\n",
      "cake\n"
     ]
    }
   ],
   "source": [
    "x = 4\n",
    "while x >= 1:\n",
    "    if x%4==0:\n",
    "        print(\"party\")\n",
    "    elif x - 2<0:\n",
    "        print(\"cake\")\n",
    "    elif x/3 ==0:\n",
    "        print(\"greeting\")\n",
    "    else:\n",
    "        print(\"birthday\")\n",
    "    x -= 1"
   ]
  },
  {
   "cell_type": "code",
   "execution_count": 3,
   "metadata": {},
   "outputs": [
    {
     "name": "stdout",
     "output_type": "stream",
     "text": [
      "amreen\n"
     ]
    }
   ],
   "source": [
    "def reverse_name(backward_name):\n",
    "    forward_name = ''\n",
    "    for index in range(len(backward_name)-1,-1,-1):\n",
    "        forward_name += backward_name[index]\n",
    "    return forward_name\n",
    "print(reverse_name(\"neerma\"))"
   ]
  },
  {
   "cell_type": "code",
   "execution_count": 13,
   "metadata": {},
   "outputs": [
    {
     "name": "stdout",
     "output_type": "stream",
     "text": [
      "5\n",
      "4\n",
      "3\n",
      "2\n",
      "1\n",
      "0\n",
      "-1\n"
     ]
    }
   ],
   "source": [
    "for index in range(5,-2,-1):\n",
    "    print(index)"
   ]
  },
  {
   "cell_type": "code",
   "execution_count": 42,
   "metadata": {},
   "outputs": [
    {
     "name": "stdout",
     "output_type": "stream",
     "text": [
      "a value is missiong\n",
      "None\n"
     ]
    }
   ],
   "source": [
    "def safe_divide(numerator, demoninator):\n",
    "    if numerator is None or demoninator is None:\n",
    "        print(\"a value is missiong\")\n",
    "    elif demoninator == 0:\n",
    "        print(\"the denominator is zero. \")\n",
    "    else:\n",
    "        return numerator/demoninator\n",
    "print(safe_divide(2,None))"
   ]
  },
  {
   "cell_type": "code",
   "execution_count": 14,
   "metadata": {},
   "outputs": [
    {
     "name": "stdout",
     "output_type": "stream",
     "text": [
      "4 6 8 10 12 14 16 18 20 22 24 \n",
      "6 9 12 15 18 21 24 27 30 33 36 \n",
      "8 12 16 20 24 28 32 36 40 44 48 \n",
      "10 15 20 25 30 35 40 45 50 55 60 \n",
      "12 18 24 30 36 42 48 54 60 66 72 \n",
      "14 21 28 35 42 49 56 63 70 77 84 \n",
      "16 24 32 40 48 56 64 72 80 88 96 \n",
      "18 27 36 45 54 63 72 81 90 99 108 \n",
      "20 30 40 50 60 70 80 90 100 110 120 \n",
      "22 33 44 55 66 77 88 99 110 121 132 \n",
      "24 36 48 60 72 84 96 108 120 132 144 \n"
     ]
    }
   ],
   "source": [
    "def time_tables():\n",
    "    for col in range(2,13):\n",
    "        for row in range(2,13):\n",
    "            print(row*col, end=\" \")\n",
    "        print()      \n",
    "time_tables()"
   ]
  },
  {
   "cell_type": "code",
   "execution_count": 17,
   "metadata": {},
   "outputs": [
    {
     "data": {
      "text/plain": [
       "0"
      ]
     },
     "execution_count": 17,
     "metadata": {},
     "output_type": "execute_result"
    }
   ],
   "source": [
    "def admission(age, school):\n",
    "    rate = 0\n",
    "    if age>=5 and school == True:\n",
    "        rate = 10\n",
    "    elif age >= 5 and school == False:\n",
    "        if age <=17 :\n",
    "            rate = 20\n",
    "        else:\n",
    "            rate = 50\n",
    "    return rate\n",
    "admission(4,True)"
   ]
  },
  {
   "cell_type": "code",
   "execution_count": 86,
   "metadata": {},
   "outputs": [
    {
     "name": "stdout",
     "output_type": "stream",
     "text": [
      "134400.0\n",
      "103500.0\n"
     ]
    }
   ],
   "source": [
    "salary_list = [150000, 130000,100000,160000,170000]\n",
    "for index in range(len(salary_list)):\n",
    "    if salary_list[index] >= 150000:\n",
    "        continue\n",
    "    salary_list[index] = (salary_list[index]*1.03)+500\n",
    "    print(salary_list[index])"
   ]
  },
  {
   "cell_type": "code",
   "execution_count": 13,
   "metadata": {},
   "outputs": [
    {
     "name": "stdout",
     "output_type": "stream",
     "text": [
      "Oranges     5.6   1.30\n",
      "Apples      2.0   0.54\n",
      "Grapes     10.2  10.96\n"
     ]
    }
   ],
   "source": [
    "def print_table(file):\n",
    "    data = open(file, \"r\")\n",
    "    for record in data:\n",
    "        feilds = record.split(\",\")\n",
    "        print(\"{0:10}{1:5.1f}{2:7.2f}\".format(feilds[0],eval(feilds[1]),eval(feilds[2])))\n",
    "\n",
    "print_table(\"39.txt\")"
   ]
  },
  {
   "cell_type": "code",
   "execution_count": 103,
   "metadata": {},
   "outputs": [
    {
     "name": "stdout",
     "output_type": "stream",
     "text": [
      "End of listing\n"
     ]
    }
   ],
   "source": [
    "import os\n",
    "if os.path.isfile(\"myfile.txt\"):\n",
    "    file = open(\"myfile.txt\")\n",
    "    content = file.read()\n",
    "    print(content)\n",
    "    file.close()\n",
    "file = open(\"myfile.txt\", \"w\")\n",
    "file.write(\"End of listing\")\n",
    "#print(data)\n",
    "file.close()"
   ]
  },
  {
   "cell_type": "code",
   "execution_count": 106,
   "metadata": {},
   "outputs": [
    {
     "name": "stdout",
     "output_type": "stream",
     "text": [
      "End of listing\n",
      "14\n"
     ]
    }
   ],
   "source": [
    "import os\n",
    "if os.path.isfile(\"myfile1.txt\"):\n",
    "    file = open(\"myfile1.txt\")\n",
    "    content = file.read()\n",
    "    print(content)\n",
    "    file.close()\n",
    "file = open(\"myfile1.txt\", \"w\")\n",
    "eol = file.write(\"End of listing\")\n",
    "print(eol)\n",
    "file.close()"
   ]
  }
 ],
 "metadata": {
  "kernelspec": {
   "display_name": "Python 3",
   "language": "python",
   "name": "python3"
  },
  "language_info": {
   "codemirror_mode": {
    "name": "ipython",
    "version": 3
   },
   "file_extension": ".py",
   "mimetype": "text/x-python",
   "name": "python",
   "nbconvert_exporter": "python",
   "pygments_lexer": "ipython3",
   "version": "3.7.6"
  }
 },
 "nbformat": 4,
 "nbformat_minor": 4
}
