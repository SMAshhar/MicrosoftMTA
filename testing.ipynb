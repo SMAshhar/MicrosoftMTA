{
 "metadata": {
  "language_info": {
   "codemirror_mode": {
    "name": "ipython",
    "version": 3
   },
   "file_extension": ".py",
   "mimetype": "text/x-python",
   "name": "python",
   "nbconvert_exporter": "python",
   "pygments_lexer": "ipython3",
   "version": 3
  },
  "orig_nbformat": 2,
  "kernelspec": {
   "name": "python_defaultSpec_1596942875241",
   "display_name": "Python 3.7.6 64-bit ('base': conda)"
  }
 },
 "nbformat": 4,
 "nbformat_minor": 2,
 "cells": [
  {
   "cell_type": "code",
   "execution_count": 1,
   "metadata": {
    "tags": []
   },
   "outputs": [
    {
     "output_type": "stream",
     "name": "stdout",
     "text": "0\n0.8333333333333334\n"
    }
   ],
   "source": [
    "x = 5\n",
    "y = 6\n",
    "print(x//y)\n",
    "print(x/y)"
   ]
  },
  {
   "cell_type": "code",
   "execution_count": 2,
   "metadata": {
    "tags": []
   },
   "outputs": [
    {
     "output_type": "stream",
     "name": "stdout",
     "text": "0\n"
    }
   ],
   "source": [
    "a = int(x/y)\n",
    "print(a)"
   ]
  },
  {
   "cell_type": "code",
   "execution_count": 3,
   "metadata": {
    "tags": []
   },
   "outputs": [
    {
     "output_type": "stream",
     "name": "stdout",
     "text": "party\nbirthday\nbirthday\ncake\n"
    }
   ],
   "source": [
    "x = 4\n",
    "while x >= 1:\n",
    "    if x % 4 == 0:\n",
    "        print(\"party\")\n",
    "    elif  x - 2 < 0:\n",
    "        print(\"cake\")\n",
    "    elif x / 3 == 0:\n",
    "        print(\"greeting\")\n",
    "    else:\n",
    "        print(\"birthday\")\n",
    "    x = x - 1\n",
    "\n",
    "    \n"
   ]
  },
  {
   "cell_type": "code",
   "execution_count": 11,
   "metadata": {
    "tags": []
   },
   "outputs": [
    {
     "output_type": "stream",
     "name": "stdout",
     "text": "asd                 , your average score is 20.0\n"
    }
   ],
   "source": [
    "name = input(\"Enter your name\")\n",
    "score = 0\n",
    "count = 0\n",
    "average = 0\n",
    "sum = 0\n",
    "while score != -1:\n",
    "    score = int(input(\"Enter your scores. enter -1 to exit\"))\n",
    "    if score == -1:\n",
    "        break\n",
    "    sum += score\n",
    "    count += 1\n",
    "average = sum / count\n",
    "print(\"%-20s, your average score is %4.1f\"%(name, average))"
   ]
  },
  {
   "cell_type": "code",
   "execution_count": 3,
   "metadata": {
    "tags": []
   },
   "outputs": [
    {
     "output_type": "stream",
     "name": "stdout",
     "text": "End of listing\n"
    }
   ],
   "source": [
    "import os\n",
    "if os.path.isfile(\"myfile.txt\"):\n",
    "    file = open(\"myfile.txt\")\n",
    "    content = file.read()\n",
    "    print(content)\n",
    "    file.close()\n",
    "file = open(\"myfile.txt\", \"w\")\n",
    "data = file.write(\"End of listing\")\n",
    "#print(data)\n",
    "file.close()\n"
   ]
  },
  {
   "cell_type": "code",
   "execution_count": 4,
   "metadata": {},
   "outputs": [],
   "source": [
    "def table(file):\n",
    "    data = open(file,\"r\")\n",
    "    for record in data:\n",
    "        fields = record.split(\",\")\n",
    "        "
   ]
  },
  {
   "cell_type": "code",
   "execution_count": 4,
   "metadata": {},
   "outputs": [],
   "source": [
    "x = float(input(\"Alaaad\"))"
   ]
  },
  {
   "cell_type": "code",
   "execution_count": 9,
   "metadata": {
    "tags": []
   },
   "outputs": [
    {
     "output_type": "stream",
     "name": "stdout",
     "text": "<class 'float'>\n"
    }
   ],
   "source": [
    "x1 = 2.5\n",
    "y1 = 1\n",
    "z = x1 /y1\n",
    "print(type(z))"
   ]
  },
  {
   "cell_type": "code",
   "execution_count": null,
   "metadata": {
    "tags": []
   },
   "outputs": [],
   "source": [
    "d = int(input(\"Ener distance\"))\n",
    "t = float(input(\"Enter in seconds\"))\n",
    "velocity = d / t\n",
    "print(velocity)"
   ]
  },
  {
   "cell_type": "code",
   "execution_count": 2,
   "metadata": {
    "tags": []
   },
   "outputs": [
    {
     "output_type": "stream",
     "name": "stdout",
     "text": "one is zero\nYe to hoga\n"
    }
   ],
   "source": [
    "try:\n",
    "    print(1/0)\n",
    "except:\n",
    "    print(\"one is zero\")\n",
    "finally:\n",
    "    print(\"Ye to hoga\")"
   ]
  },
  {
   "cell_type": "code",
   "execution_count": null,
   "metadata": {},
   "outputs": [],
   "source": []
  },
  {
   "cell_type": "code",
   "execution_count": 1,
   "metadata": {
    "tags": []
   },
   "outputs": [
    {
     "output_type": "stream",
     "name": "stdout",
     "text": "Party\nbirthday\nbirthday\ncake\n"
    }
   ],
   "source": [
    "x = 4\n",
    "while x >= 1:\n",
    "    if x % 4 == 0:\n",
    "        print(\"Party\")\n",
    "    elif x - 2 < 0:\n",
    "        print(\"cake\")\n",
    "    elif x / 3 == 0:\n",
    "        print(\"greeting\")\n",
    "    else:\n",
    "        print(\"birthday\")\n",
    "    x = x - 1"
   ]
  },
  {
   "cell_type": "code",
   "execution_count": 2,
   "metadata": {
    "tags": []
   },
   "outputs": [
    {
     "output_type": "stream",
     "name": "stdout",
     "text": "0\n1\n2\n3\n4\n5\n6\n6\n"
    }
   ],
   "source": [
    "list = [0, 1, 2, 3, 4, 5, 6, 7, 8, 9, 10]\n",
    "index = 0\n",
    "while index < 10:\n",
    "    print(list[index])\n",
    "    if list[index] == 6:\n",
    "        break\n",
    "    else:\n",
    "        index += 1\n",
    "print(index)"
   ]
  },
  {
   "cell_type": "code",
   "execution_count": 32,
   "metadata": {
    "tags": []
   },
   "outputs": [
    {
     "output_type": "stream",
     "name": "stdout",
     "text": "7\n"
    }
   ],
   "source": [
    "import random\n",
    "print(random.randrange(5, 12))"
   ]
  },
  {
   "cell_type": "code",
   "execution_count": 36,
   "metadata": {
    "tags": []
   },
   "outputs": [
    {
     "output_type": "stream",
     "name": "stdout",
     "text": "3\n5\n7\n9\n11\n13\n15\n17\n19\n21\n23\n25\n27\n29\n31\n33\n35\n37\n39\n41\n43\n45\n47\n49\n51\n53\n55\n57\n59\n61\n63\n65\n67\n69\n71\n73\n75\n77\n79\n81\n83\n85\n87\n89\n91\n93\n95\n97\n99\n"
    }
   ],
   "source": [
    "p = 2\n",
    "while p <= 100:\n",
    "    a = 0\n",
    "    for i in range(2, p):\n",
    "        if p % i == 0:\n",
    "            break\n",
    "        else:\n",
    "            a = 1\n",
    "    if a == 1:\n",
    "        print(p)\n",
    "    p += 1\n",
    "    "
   ]
  },
  {
   "cell_type": "code",
   "execution_count": null,
   "metadata": {},
   "outputs": [],
   "source": []
  }
 ]
}